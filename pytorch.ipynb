{
 "cells": [
  {
   "cell_type": "markdown",
   "metadata": {
    "id": "wLOYFx_WV7qx"
   },
   "source": [
    "In this notebook, you will learn how to manipulate data with Pytorch  \n",
    "Let's start by importing Pytorch"
   ]
  },
  {
   "cell_type": "code",
   "execution_count": 171,
   "metadata": {
    "id": "jRPeeaCnWGXc"
   },
   "outputs": [],
   "source": [
    "import torch"
   ]
  },
  {
   "cell_type": "markdown",
   "metadata": {
    "id": "5wT_dhlBaO-_"
   },
   "source": [
    "## Basic tensor operation"
   ]
  },
  {
   "cell_type": "code",
   "execution_count": 172,
   "outputs": [
    {
     "data": {
      "text/plain": "tensor([[[0.4636, 0.6080],\n         [0.1170, 0.7305],\n         [0.3101, 0.9600]],\n\n        [[0.9216, 0.1652],\n         [0.6792, 0.8369],\n         [0.7051, 0.6153]],\n\n        [[0.0307, 0.2651],\n         [0.3545, 0.5048],\n         [0.9696, 0.6124]],\n\n        [[0.1154, 0.3498],\n         [0.9168, 0.6483],\n         [0.4144, 0.0091]]])"
     },
     "execution_count": 172,
     "metadata": {},
     "output_type": "execute_result"
    }
   ],
   "source": [
    "tensor = torch.rand((4, 3, 2))\n",
    "tensor"
   ],
   "metadata": {
    "collapsed": false
   }
  },
  {
   "cell_type": "markdown",
   "metadata": {
    "id": "T3jo7cAJafjL"
   },
   "source": [
    "Display the size of the produced tensor"
   ]
  },
  {
   "cell_type": "code",
   "execution_count": 173,
   "outputs": [
    {
     "data": {
      "text/plain": "torch.Size([4, 3, 2])"
     },
     "execution_count": 173,
     "metadata": {},
     "output_type": "execute_result"
    }
   ],
   "source": [
    "tensor.size()"
   ],
   "metadata": {
    "collapsed": false
   }
  },
  {
   "cell_type": "markdown",
   "metadata": {
    "id": "o3lrN95Fajw9"
   },
   "source": [
    "Give the total number of elements inside the tensor"
   ]
  },
  {
   "cell_type": "code",
   "execution_count": 174,
   "metadata": {
    "id": "nGfYfyAvanDF"
   },
   "outputs": [
    {
     "data": {
      "text/plain": "24"
     },
     "execution_count": 174,
     "metadata": {},
     "output_type": "execute_result"
    }
   ],
   "source": [
    "tensor.numel()"
   ]
  },
  {
   "cell_type": "markdown",
   "metadata": {
    "id": "2uFqXJnubMz4"
   },
   "source": [
    "Change the shape of the tensor into a 4x6 tensor"
   ]
  },
  {
   "cell_type": "code",
   "execution_count": 175,
   "metadata": {
    "id": "GH6msf3GbELC"
   },
   "outputs": [
    {
     "data": {
      "text/plain": "torch.Size([4, 6])"
     },
     "execution_count": 175,
     "metadata": {},
     "output_type": "execute_result"
    }
   ],
   "source": [
    "reshaped = tensor.reshape(4, 6)\n",
    "reshaped.shape"
   ]
  },
  {
   "cell_type": "markdown",
   "metadata": {
    "id": "mAHe3gu9bWpn"
   },
   "source": [
    "Transform a python list into a tensor"
   ]
  },
  {
   "cell_type": "code",
   "execution_count": 176,
   "metadata": {
    "id": "udKffc4ebZDh"
   },
   "outputs": [
    {
     "data": {
      "text/plain": "tensor([[9, 8, 7],\n        [4, 5, 6],\n        [3, 2, 1]])"
     },
     "execution_count": 176,
     "metadata": {},
     "output_type": "execute_result"
    }
   ],
   "source": [
    "list_to_transform = [[9, 8, 7], [4, 5, 6], [3, 2, 1]]\n",
    "new_tensor = torch.tensor(list_to_transform)\n",
    "new_tensor"
   ]
  },
  {
   "cell_type": "markdown",
   "metadata": {
    "id": "CAoEqdvBbwsc"
   },
   "source": [
    "## Operations on tensor"
   ]
  },
  {
   "cell_type": "code",
   "execution_count": 177,
   "metadata": {
    "colab": {
     "base_uri": "https://localhost:8080/"
    },
    "id": "T6JblZuQb0As",
    "outputId": "1b4c9bb1-7d10-4a42-b1d7-01e88c8ba9e8"
   },
   "outputs": [
    {
     "data": {
      "text/plain": "tensor([0, 1, 2, 3])"
     },
     "execution_count": 177,
     "metadata": {},
     "output_type": "execute_result"
    }
   ],
   "source": [
    "x = torch.arange(4)\n",
    "x"
   ]
  },
  {
   "cell_type": "markdown",
   "metadata": {
    "id": "g6xxJ_jozvzu"
   },
   "source": [
    "Add 3 to every element of the tensor, put the result in a new tensor"
   ]
  },
  {
   "cell_type": "code",
   "execution_count": 178,
   "metadata": {
    "colab": {
     "base_uri": "https://localhost:8080/"
    },
    "id": "aCkvWgdLzz-7",
    "outputId": "b40b939e-a456-471e-d757-50f2dcdff7cb"
   },
   "outputs": [
    {
     "data": {
      "text/plain": "tensor([3, 4, 5, 6])"
     },
     "execution_count": 178,
     "metadata": {},
     "output_type": "execute_result"
    }
   ],
   "source": [
    "y = x + 3\n",
    "y"
   ]
  },
  {
   "cell_type": "markdown",
   "metadata": {
    "id": "zdR5V_dR0HZ5"
   },
   "source": [
    "Multiply by 3 the tensor x, put the result in a new tensor"
   ]
  },
  {
   "cell_type": "code",
   "execution_count": 179,
   "metadata": {
    "colab": {
     "base_uri": "https://localhost:8080/"
    },
    "id": "w7e_wr830Oum",
    "outputId": "8e616e67-992c-4bd9-9054-5af2ab714c39"
   },
   "outputs": [
    {
     "data": {
      "text/plain": "tensor([0, 3, 6, 9])"
     },
     "execution_count": 179,
     "metadata": {},
     "output_type": "execute_result"
    }
   ],
   "source": [
    "y = x * 3\n",
    "y"
   ]
  },
  {
   "cell_type": "markdown",
   "metadata": {
    "id": "iERh31GW0vEb"
   },
   "source": [
    "Put every element of x to the power of 3"
   ]
  },
  {
   "cell_type": "code",
   "execution_count": 180,
   "metadata": {
    "colab": {
     "base_uri": "https://localhost:8080/"
    },
    "id": "YGXcbJ2e1hOe",
    "outputId": "af7a05ba-9dfa-4033-c9b7-027953bed6bf"
   },
   "outputs": [
    {
     "data": {
      "text/plain": "tensor([ 0,  1,  8, 27])"
     },
     "execution_count": 180,
     "metadata": {},
     "output_type": "execute_result"
    }
   ],
   "source": [
    "y = x ** 3\n",
    "y"
   ]
  },
  {
   "cell_type": "markdown",
   "metadata": {
    "id": "FwPcIgjY13uN"
   },
   "source": [
    "Multiply x with k"
   ]
  },
  {
   "cell_type": "code",
   "execution_count": 181,
   "metadata": {
    "colab": {
     "base_uri": "https://localhost:8080/"
    },
    "id": "Df9Nz6Cg1xxz",
    "outputId": "b1a9e9a7-be06-4bc8-9ba1-a1056086d5a1"
   },
   "outputs": [
    {
     "data": {
      "text/plain": "tensor([ 0.,  7., 10.,  3.])"
     },
     "execution_count": 181,
     "metadata": {},
     "output_type": "execute_result"
    }
   ],
   "source": [
    "k = torch.Tensor([8, 7, 5, 1])\n",
    "y = x * k\n",
    "y"
   ]
  },
  {
   "cell_type": "markdown",
   "metadata": {
    "id": "K-nAfURR3KKx"
   },
   "source": [
    "Makes x to the power of k"
   ]
  },
  {
   "cell_type": "code",
   "execution_count": 182,
   "metadata": {
    "colab": {
     "base_uri": "https://localhost:8080/"
    },
    "id": "sQTvJc_43MoY",
    "outputId": "a1fc90e1-912e-4494-a7a9-b30cbb51f102"
   },
   "outputs": [
    {
     "data": {
      "text/plain": "tensor([ 0.,  1., 32.,  3.])"
     },
     "execution_count": 182,
     "metadata": {},
     "output_type": "execute_result"
    }
   ],
   "source": [
    "y = x ** k\n",
    "y"
   ]
  },
  {
   "cell_type": "markdown",
   "metadata": {
    "id": "b4aYqWoQ3WIr"
   },
   "source": [
    "Put every element of x to exponential"
   ]
  },
  {
   "cell_type": "code",
   "execution_count": 183,
   "metadata": {
    "colab": {
     "base_uri": "https://localhost:8080/"
    },
    "id": "0fPWg6bG4M8E",
    "outputId": "3dd3d552-ca15-4328-b6a6-2a0869d740f0"
   },
   "outputs": [
    {
     "data": {
      "text/plain": "tensor([ 1.0000,  2.7183,  7.3891, 20.0855])"
     },
     "execution_count": 183,
     "metadata": {},
     "output_type": "execute_result"
    }
   ],
   "source": [
    "y = torch.exp(x)\n",
    "y"
   ]
  },
  {
   "cell_type": "markdown",
   "metadata": {
    "id": "XaXLktzp-b6d"
   },
   "source": [
    "Perform the element wise product of `a` and `b`"
   ]
  },
  {
   "cell_type": "code",
   "execution_count": 184,
   "metadata": {
    "colab": {
     "base_uri": "https://localhost:8080/"
    },
    "id": "H4gFleXP-ba9",
    "outputId": "288f88f0-2b0d-4028-a8ba-bfa61df7d1b2"
   },
   "outputs": [
    {
     "data": {
      "text/plain": "tensor([0.0803, 0.5371, 0.1279, 0.0457, 0.2200])"
     },
     "execution_count": 184,
     "metadata": {},
     "output_type": "execute_result"
    }
   ],
   "source": [
    "a = torch.rand((5))\n",
    "b = torch.rand((5))\n",
    "y = a * b\n",
    "y"
   ]
  },
  {
   "cell_type": "markdown",
   "metadata": {
    "id": "eOdJAPCd9OAc"
   },
   "source": [
    "Perform the dot product of `a` and `b`"
   ]
  },
  {
   "cell_type": "code",
   "execution_count": 185,
   "metadata": {
    "colab": {
     "base_uri": "https://localhost:8080/"
    },
    "id": "pY1H8MX5Ag5t",
    "outputId": "b41bb0ae-9f9e-4009-8933-ec09a2942b07"
   },
   "outputs": [
    {
     "data": {
      "text/plain": "tensor(1.0111)"
     },
     "execution_count": 185,
     "metadata": {},
     "output_type": "execute_result"
    }
   ],
   "source": [
    "y = torch.dot(a, b)\n",
    "y"
   ]
  },
  {
   "cell_type": "markdown",
   "metadata": {},
   "source": [
    "Sum along the column axis of `l`"
   ]
  },
  {
   "cell_type": "code",
   "execution_count": 186,
   "metadata": {},
   "outputs": [
    {
     "data": {
      "text/plain": "tensor([[2.3791, 2.7258, 1.3116, 1.4012, 1.7093, 0.6515],\n        [1.6047, 2.0460, 0.8214, 1.1897, 1.9308, 1.1476],\n        [0.9239, 0.9447, 2.1370, 0.9331, 1.6278, 0.9751],\n        [1.4029, 1.4425, 1.3162, 1.8231, 2.0918, 1.0193],\n        [1.3572, 1.5283, 2.1533, 1.5194, 1.1145, 1.7744]])"
     },
     "execution_count": 186,
     "metadata": {},
     "output_type": "execute_result"
    }
   ],
   "source": [
    "l = torch.rand((5, 3, 6))\n",
    "torch.sum(l,1)"
   ]
  },
  {
   "cell_type": "markdown",
   "metadata": {
    "id": "m8__FteD5AUJ"
   },
   "source": [
    "## Slicing\n",
    "\n",
    "Display the 3 last element of x"
   ]
  },
  {
   "cell_type": "code",
   "execution_count": 187,
   "metadata": {
    "id": "lU4kjKNh5CTw"
   },
   "outputs": [
    {
     "data": {
      "text/plain": "tensor([1, 2, 3])"
     },
     "execution_count": 187,
     "metadata": {},
     "output_type": "execute_result"
    }
   ],
   "source": [
    "x[-3:]"
   ]
  },
  {
   "cell_type": "markdown",
   "metadata": {
    "id": "F4o9hAOg6ZB-"
   },
   "source": [
    "Display the last element of x"
   ]
  },
  {
   "cell_type": "code",
   "execution_count": 188,
   "metadata": {
    "id": "X6Sdkmj665HN"
   },
   "outputs": [
    {
     "data": {
      "text/plain": "tensor(3)"
     },
     "execution_count": 188,
     "metadata": {},
     "output_type": "execute_result"
    }
   ],
   "source": [
    "x[-1]"
   ]
  },
  {
   "cell_type": "markdown",
   "metadata": {
    "id": "NNGTJgrr6b71"
   },
   "source": [
    "Display the element of m, by step of 2"
   ]
  },
  {
   "cell_type": "code",
   "execution_count": 189,
   "metadata": {
    "id": "37z91f576f1F"
   },
   "outputs": [
    {
     "data": {
      "text/plain": "tensor([ 0,  2,  4,  6,  8, 10, 12, 14, 16])"
     },
     "execution_count": 189,
     "metadata": {},
     "output_type": "execute_result"
    }
   ],
   "source": [
    "m = torch.arange(18)\n",
    "m[::2] # = m[0::2]"
   ]
  },
  {
   "cell_type": "markdown",
   "metadata": {
    "id": "b5NKNR6G-DK9"
   },
   "source": [
    "Print only the first 2 rows of `matrix`"
   ]
  },
  {
   "cell_type": "code",
   "execution_count": 190,
   "metadata": {
    "id": "5rRaM9RI-KfK"
   },
   "outputs": [
    {
     "data": {
      "text/plain": "tensor([[[0.1788, 0.9497],\n         [0.9804, 0.4923]],\n\n        [[0.2564, 0.7542],\n         [0.6942, 0.0961]],\n\n        [[0.2227, 0.2058],\n         [0.1515, 0.1756]],\n\n        [[0.8712, 0.7565],\n         [0.4758, 0.7520]],\n\n        [[0.3439, 0.9014],\n         [0.1538, 0.8944]],\n\n        [[0.3751, 0.3540],\n         [0.7800, 0.9224]]])"
     },
     "execution_count": 190,
     "metadata": {},
     "output_type": "execute_result"
    }
   ],
   "source": [
    "matrix = torch.rand((6, 4, 2)) # torch.arange(6*4*2).reshape(6,4,2) matrix[0:2]\n",
    "matrix[:, 0:2]"
   ]
  },
  {
   "cell_type": "markdown",
   "metadata": {
    "id": "UYDhWFDb-SYc"
   },
   "source": [
    "Now, only print the first 2 columns of `matrix`"
   ]
  },
  {
   "cell_type": "code",
   "execution_count": 191,
   "metadata": {
    "id": "vtX9urXm-XT7"
   },
   "outputs": [
    {
     "data": {
      "text/plain": "tensor([[[0.1788, 0.9497],\n         [0.9804, 0.4923],\n         [0.6031, 0.2066],\n         [0.0524, 0.2617]],\n\n        [[0.2564, 0.7542],\n         [0.6942, 0.0961],\n         [0.0770, 0.3477],\n         [0.7969, 0.0970]],\n\n        [[0.2227, 0.2058],\n         [0.1515, 0.1756],\n         [0.4539, 0.9455],\n         [0.6068, 0.6273]],\n\n        [[0.8712, 0.7565],\n         [0.4758, 0.7520],\n         [0.4082, 0.6842],\n         [0.5468, 0.8659]],\n\n        [[0.3439, 0.9014],\n         [0.1538, 0.8944],\n         [0.3908, 0.6576],\n         [0.7083, 0.0079]],\n\n        [[0.3751, 0.3540],\n         [0.7800, 0.9224],\n         [0.6521, 0.4418],\n         [0.3749, 0.4379]]])"
     },
     "execution_count": 191,
     "metadata": {},
     "output_type": "execute_result"
    }
   ],
   "source": [
    "matrix[:, : , 0:2]"
   ]
  }
 ],
 "metadata": {
  "colab": {
   "collapsed_sections": [],
   "name": "First.ipynb",
   "provenance": []
  },
  "kernelspec": {
   "display_name": "Python 3",
   "language": "python",
   "name": "python3"
  },
  "language_info": {
   "codemirror_mode": {
    "name": "ipython",
    "version": 3
   },
   "file_extension": ".py",
   "mimetype": "text/x-python",
   "name": "python",
   "nbconvert_exporter": "python",
   "pygments_lexer": "ipython3",
   "version": "3.8.5"
  }
 },
 "nbformat": 4,
 "nbformat_minor": 1
}
