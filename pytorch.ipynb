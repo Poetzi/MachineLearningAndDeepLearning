{
 "cells": [
  {
   "cell_type": "markdown",
   "metadata": {
    "id": "wLOYFx_WV7qx"
   },
   "source": [
    "In this notebook, you will learn how to manipulate data with Pytorch  \n",
    "Let's start by importing Pytorch"
   ]
  },
  {
   "cell_type": "code",
   "execution_count": 262,
   "metadata": {
    "id": "jRPeeaCnWGXc"
   },
   "outputs": [],
   "source": [
    "import torch"
   ]
  },
  {
   "cell_type": "markdown",
   "metadata": {
    "id": "5wT_dhlBaO-_"
   },
   "source": [
    "## Basic tensor operation"
   ]
  },
  {
   "cell_type": "code",
   "execution_count": 263,
   "outputs": [
    {
     "data": {
      "text/plain": "tensor([[[0.5897, 0.3767],\n         [0.2694, 0.5787],\n         [0.8774, 0.7268]],\n\n        [[0.9318, 0.0789],\n         [0.6916, 0.8273],\n         [0.0615, 0.9861]],\n\n        [[0.3521, 0.4847],\n         [0.9804, 0.1387],\n         [0.7751, 0.3880]],\n\n        [[0.9781, 0.9521],\n         [0.0050, 0.5644],\n         [0.6435, 0.6749]]])"
     },
     "execution_count": 263,
     "metadata": {},
     "output_type": "execute_result"
    }
   ],
   "source": [
    "tensor = torch.rand((4, 3, 2))\n",
    "tensor"
   ],
   "metadata": {
    "collapsed": false
   }
  },
  {
   "cell_type": "markdown",
   "metadata": {
    "id": "T3jo7cAJafjL"
   },
   "source": [
    "Display the size of the produced tensor"
   ]
  },
  {
   "cell_type": "code",
   "execution_count": 264,
   "outputs": [
    {
     "data": {
      "text/plain": "torch.Size([4, 3, 2])"
     },
     "execution_count": 264,
     "metadata": {},
     "output_type": "execute_result"
    }
   ],
   "source": [
    "tensor.size()"
   ],
   "metadata": {
    "collapsed": false
   }
  },
  {
   "cell_type": "markdown",
   "metadata": {
    "id": "o3lrN95Fajw9"
   },
   "source": [
    "Give the total number of elements inside the tensor"
   ]
  },
  {
   "cell_type": "code",
   "execution_count": 265,
   "metadata": {
    "id": "nGfYfyAvanDF"
   },
   "outputs": [
    {
     "data": {
      "text/plain": "24"
     },
     "execution_count": 265,
     "metadata": {},
     "output_type": "execute_result"
    }
   ],
   "source": [
    "tensor.numel()"
   ]
  },
  {
   "cell_type": "markdown",
   "metadata": {
    "id": "2uFqXJnubMz4"
   },
   "source": [
    "Change the shape of the tensor into a 4x6 tensor"
   ]
  },
  {
   "cell_type": "code",
   "execution_count": 266,
   "metadata": {
    "id": "GH6msf3GbELC"
   },
   "outputs": [
    {
     "data": {
      "text/plain": "torch.Size([4, 6])"
     },
     "execution_count": 266,
     "metadata": {},
     "output_type": "execute_result"
    }
   ],
   "source": [
    "reshaped = tensor.reshape(4, 6)\n",
    "reshaped.shape"
   ]
  },
  {
   "cell_type": "markdown",
   "metadata": {
    "id": "mAHe3gu9bWpn"
   },
   "source": [
    "Transform a python list into a tensor"
   ]
  },
  {
   "cell_type": "code",
   "execution_count": 267,
   "metadata": {
    "id": "udKffc4ebZDh"
   },
   "outputs": [
    {
     "data": {
      "text/plain": "tensor([[9, 8, 7],\n        [4, 5, 6],\n        [3, 2, 1]])"
     },
     "execution_count": 267,
     "metadata": {},
     "output_type": "execute_result"
    }
   ],
   "source": [
    "list_to_transform = [[9, 8, 7], [4, 5, 6], [3, 2, 1]]\n",
    "new_tensor = torch.tensor(list_to_transform)\n",
    "new_tensor"
   ]
  },
  {
   "cell_type": "markdown",
   "metadata": {
    "id": "CAoEqdvBbwsc"
   },
   "source": [
    "## Operations on tensor"
   ]
  },
  {
   "cell_type": "code",
   "execution_count": 268,
   "metadata": {
    "colab": {
     "base_uri": "https://localhost:8080/"
    },
    "id": "T6JblZuQb0As",
    "outputId": "1b4c9bb1-7d10-4a42-b1d7-01e88c8ba9e8"
   },
   "outputs": [
    {
     "data": {
      "text/plain": "tensor([0, 1, 2, 3])"
     },
     "execution_count": 268,
     "metadata": {},
     "output_type": "execute_result"
    }
   ],
   "source": [
    "x = torch.arange(4)\n",
    "x"
   ]
  },
  {
   "cell_type": "markdown",
   "metadata": {
    "id": "g6xxJ_jozvzu"
   },
   "source": [
    "Add 3 to every element of the tensor, put the result in a new tensor"
   ]
  },
  {
   "cell_type": "code",
   "execution_count": 269,
   "metadata": {
    "colab": {
     "base_uri": "https://localhost:8080/"
    },
    "id": "aCkvWgdLzz-7",
    "outputId": "b40b939e-a456-471e-d757-50f2dcdff7cb"
   },
   "outputs": [
    {
     "data": {
      "text/plain": "tensor([3, 4, 5, 6])"
     },
     "execution_count": 269,
     "metadata": {},
     "output_type": "execute_result"
    }
   ],
   "source": [
    "y = x + 3\n",
    "y"
   ]
  },
  {
   "cell_type": "markdown",
   "metadata": {
    "id": "zdR5V_dR0HZ5"
   },
   "source": [
    "Multiply by 3 the tensor x, put the result in a new tensor"
   ]
  },
  {
   "cell_type": "code",
   "execution_count": 270,
   "metadata": {
    "colab": {
     "base_uri": "https://localhost:8080/"
    },
    "id": "w7e_wr830Oum",
    "outputId": "8e616e67-992c-4bd9-9054-5af2ab714c39"
   },
   "outputs": [
    {
     "data": {
      "text/plain": "tensor([0, 3, 6, 9])"
     },
     "execution_count": 270,
     "metadata": {},
     "output_type": "execute_result"
    }
   ],
   "source": [
    "y = x * 3\n",
    "y"
   ]
  },
  {
   "cell_type": "markdown",
   "metadata": {
    "id": "iERh31GW0vEb"
   },
   "source": [
    "Put every element of x to the power of 3"
   ]
  },
  {
   "cell_type": "code",
   "execution_count": 271,
   "metadata": {
    "colab": {
     "base_uri": "https://localhost:8080/"
    },
    "id": "YGXcbJ2e1hOe",
    "outputId": "af7a05ba-9dfa-4033-c9b7-027953bed6bf"
   },
   "outputs": [
    {
     "data": {
      "text/plain": "tensor([ 0,  1,  8, 27])"
     },
     "execution_count": 271,
     "metadata": {},
     "output_type": "execute_result"
    }
   ],
   "source": [
    "y = x ** 3\n",
    "y"
   ]
  },
  {
   "cell_type": "markdown",
   "metadata": {
    "id": "FwPcIgjY13uN"
   },
   "source": [
    "Multiply x with k"
   ]
  },
  {
   "cell_type": "code",
   "execution_count": 272,
   "metadata": {
    "colab": {
     "base_uri": "https://localhost:8080/"
    },
    "id": "Df9Nz6Cg1xxz",
    "outputId": "b1a9e9a7-be06-4bc8-9ba1-a1056086d5a1"
   },
   "outputs": [
    {
     "data": {
      "text/plain": "tensor([ 0.,  7., 10.,  3.])"
     },
     "execution_count": 272,
     "metadata": {},
     "output_type": "execute_result"
    }
   ],
   "source": [
    "k = torch.Tensor([8, 7, 5, 1])\n",
    "y = x * k\n",
    "y"
   ]
  },
  {
   "cell_type": "markdown",
   "metadata": {
    "id": "K-nAfURR3KKx"
   },
   "source": [
    "Makes x to the power of k"
   ]
  },
  {
   "cell_type": "code",
   "execution_count": 273,
   "metadata": {
    "colab": {
     "base_uri": "https://localhost:8080/"
    },
    "id": "sQTvJc_43MoY",
    "outputId": "a1fc90e1-912e-4494-a7a9-b30cbb51f102"
   },
   "outputs": [
    {
     "data": {
      "text/plain": "tensor([ 0.,  1., 32.,  3.])"
     },
     "execution_count": 273,
     "metadata": {},
     "output_type": "execute_result"
    }
   ],
   "source": [
    "y = x ** k\n",
    "y"
   ]
  },
  {
   "cell_type": "markdown",
   "metadata": {
    "id": "b4aYqWoQ3WIr"
   },
   "source": [
    "Put every element of x to exponential"
   ]
  },
  {
   "cell_type": "code",
   "execution_count": 274,
   "metadata": {
    "colab": {
     "base_uri": "https://localhost:8080/"
    },
    "id": "0fPWg6bG4M8E",
    "outputId": "3dd3d552-ca15-4328-b6a6-2a0869d740f0"
   },
   "outputs": [
    {
     "data": {
      "text/plain": "tensor([ 1.0000,  2.7183,  7.3891, 20.0855])"
     },
     "execution_count": 274,
     "metadata": {},
     "output_type": "execute_result"
    }
   ],
   "source": [
    "y = torch.exp(x)\n",
    "y"
   ]
  },
  {
   "cell_type": "markdown",
   "metadata": {
    "id": "XaXLktzp-b6d"
   },
   "source": [
    "Perform the element wise product of `a` and `b`"
   ]
  },
  {
   "cell_type": "code",
   "execution_count": 275,
   "metadata": {
    "colab": {
     "base_uri": "https://localhost:8080/"
    },
    "id": "H4gFleXP-ba9",
    "outputId": "288f88f0-2b0d-4028-a8ba-bfa61df7d1b2"
   },
   "outputs": [
    {
     "data": {
      "text/plain": "tensor([0.0346, 0.0644, 0.2832, 0.2807, 0.2893])"
     },
     "execution_count": 275,
     "metadata": {},
     "output_type": "execute_result"
    }
   ],
   "source": [
    "a = torch.rand((5))\n",
    "b = torch.rand((5))\n",
    "y = a * b\n",
    "y"
   ]
  },
  {
   "cell_type": "markdown",
   "metadata": {
    "id": "eOdJAPCd9OAc"
   },
   "source": [
    "Perform the dot product of `a` and `b`"
   ]
  },
  {
   "cell_type": "code",
   "execution_count": 276,
   "metadata": {
    "colab": {
     "base_uri": "https://localhost:8080/"
    },
    "id": "pY1H8MX5Ag5t",
    "outputId": "b41bb0ae-9f9e-4009-8933-ec09a2942b07"
   },
   "outputs": [
    {
     "data": {
      "text/plain": "tensor(0.9522)"
     },
     "execution_count": 276,
     "metadata": {},
     "output_type": "execute_result"
    }
   ],
   "source": [
    "y = torch.sum(a * b)\n",
    "y"
   ]
  },
  {
   "cell_type": "markdown",
   "metadata": {},
   "source": [
    "Sum along the column axis of `l`"
   ]
  },
  {
   "cell_type": "code",
   "execution_count": 277,
   "metadata": {},
   "outputs": [
    {
     "data": {
      "text/plain": "tensor([[0.9653, 1.4985, 1.4353, 1.7501, 2.1071, 1.6287],\n        [1.4553, 1.1574, 0.7955, 1.1816, 1.9635, 1.9921],\n        [2.0513, 2.6570, 0.3118, 1.7051, 1.7386, 1.9467],\n        [1.3988, 2.0531, 1.1971, 1.8958, 1.4634, 1.6208],\n        [0.9370, 1.6869, 1.4684, 1.8088, 1.0430, 1.9219]])"
     },
     "execution_count": 277,
     "metadata": {},
     "output_type": "execute_result"
    }
   ],
   "source": [
    "l = torch.rand((5, 3, 6))\n",
    "torch.sum(l,1)"
   ]
  },
  {
   "cell_type": "markdown",
   "metadata": {
    "id": "m8__FteD5AUJ"
   },
   "source": [
    "## Slicing\n",
    "\n",
    "Display the 3 last element of x"
   ]
  },
  {
   "cell_type": "code",
   "execution_count": 278,
   "metadata": {
    "id": "lU4kjKNh5CTw"
   },
   "outputs": [
    {
     "data": {
      "text/plain": "tensor([1, 2, 3])"
     },
     "execution_count": 278,
     "metadata": {},
     "output_type": "execute_result"
    }
   ],
   "source": [
    "x[(x.numel() - 3) : (x.numel())]"
   ]
  },
  {
   "cell_type": "markdown",
   "metadata": {
    "id": "F4o9hAOg6ZB-"
   },
   "source": [
    "Display the last element of x"
   ]
  },
  {
   "cell_type": "code",
   "execution_count": 279,
   "metadata": {
    "id": "X6Sdkmj665HN"
   },
   "outputs": [
    {
     "data": {
      "text/plain": "tensor(3)"
     },
     "execution_count": 279,
     "metadata": {},
     "output_type": "execute_result"
    }
   ],
   "source": [
    "x[-1]"
   ]
  },
  {
   "cell_type": "markdown",
   "metadata": {
    "id": "NNGTJgrr6b71"
   },
   "source": [
    "Display the element of m, by step of 2"
   ]
  },
  {
   "cell_type": "code",
   "execution_count": 280,
   "metadata": {
    "id": "37z91f576f1F"
   },
   "outputs": [],
   "source": [
    "m = torch.arange(18)\n",
    "#TODO"
   ]
  },
  {
   "cell_type": "markdown",
   "metadata": {
    "id": "b5NKNR6G-DK9"
   },
   "source": [
    "Print only the first 2 rows of `matrix`"
   ]
  },
  {
   "cell_type": "code",
   "execution_count": 281,
   "metadata": {
    "id": "5rRaM9RI-KfK"
   },
   "outputs": [],
   "source": [
    "matrix = torch.rand((6, 4, 2))\n",
    "#TODO"
   ]
  },
  {
   "cell_type": "markdown",
   "metadata": {
    "id": "UYDhWFDb-SYc"
   },
   "source": [
    "Now, only print the first 2 columns of `matrix`"
   ]
  },
  {
   "cell_type": "code",
   "execution_count": 282,
   "metadata": {
    "id": "vtX9urXm-XT7"
   },
   "outputs": [],
   "source": [
    "#TODO"
   ]
  }
 ],
 "metadata": {
  "colab": {
   "collapsed_sections": [],
   "name": "First.ipynb",
   "provenance": []
  },
  "kernelspec": {
   "display_name": "Python 3",
   "language": "python",
   "name": "python3"
  },
  "language_info": {
   "codemirror_mode": {
    "name": "ipython",
    "version": 3
   },
   "file_extension": ".py",
   "mimetype": "text/x-python",
   "name": "python",
   "nbconvert_exporter": "python",
   "pygments_lexer": "ipython3",
   "version": "3.8.5"
  }
 },
 "nbformat": 4,
 "nbformat_minor": 1
}
